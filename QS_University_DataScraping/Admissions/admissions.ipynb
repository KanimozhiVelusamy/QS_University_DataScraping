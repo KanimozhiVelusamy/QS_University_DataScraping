{
 "cells": [
  {
   "cell_type": "markdown",
   "id": "0425c4bc",
   "metadata": {},
   "source": [
    "This code will extracts the Admission score deatils which needed such as GRE, TOEFL etc to get admissions in the university.."
   ]
  },
  {
   "cell_type": "code",
   "execution_count": 10,
   "id": "203549f0",
   "metadata": {},
   "outputs": [],
   "source": [
    "import pandas as pd\n",
    "import requests\n",
    "from bs4 import BeautifulSoup\n",
    "\n",
    "# Load university URLs from the CSV file - change the urls everytime to fetch details of all the 7 csv files in the university urls\n",
    "df = pd.read_csv('/Users/kanimozhivelusamy/Downloads/universities_with_no_650.csv')\n",
    "\n",
    "def extract_admission(university_name, url):\n",
    "    page = requests.get(url).text\n",
    "    soup = BeautifulSoup(page, 'html.parser')\n",
    "\n",
    "    # Find all div elements with class \"univ-subsection-full-width-value\"\n",
    "    items = soup.find_all('div', class_='univ-subsection-full-width-value')\n",
    "\n",
    "    # Create a dictionary to store the extracted data\n",
    "    data = {'University': university_name}\n",
    "\n",
    "    # Loop through each item and extract the label and value\n",
    "    for item in items:\n",
    "        label = item.find('label').text\n",
    "        value = item.find('div').text.strip()\n",
    "        data[label] = value\n",
    "\n",
    "    return data\n",
    "\n",
    "# Create a list to store the extracted data for all universities\n",
    "extracted_data = []\n",
    "\n",
    "# Assuming df contains columns named 'University' and 'URL' that store the university names and URLs respectively\n",
    "for index, row in df.iterrows():\n",
    "    university_name = row['University']\n",
    "    url = row['URL']\n",
    "    admission_data = extract_admission(university_name, url)\n",
    "    extracted_data.append(admission_data)\n",
    "\n",
    "# Convert the list of dictionaries into a DataFrame\n",
    "df_admission = pd.DataFrame(extracted_data)\n",
    "\n",
    "# Save the DataFrame to a CSV file\n",
    "df_admission.to_csv('university_admission_data7.csv', index=False) \n"
   ]
  }
 ],
 "metadata": {
  "kernelspec": {
   "display_name": "Python 3 (ipykernel)",
   "language": "python",
   "name": "python3"
  },
  "language_info": {
   "codemirror_mode": {
    "name": "ipython",
    "version": 3
   },
   "file_extension": ".py",
   "mimetype": "text/x-python",
   "name": "python",
   "nbconvert_exporter": "python",
   "pygments_lexer": "ipython3",
   "version": "3.11.5"
  }
 },
 "nbformat": 4,
 "nbformat_minor": 5
}
