{
 "cells": [
  {
   "cell_type": "markdown",
   "id": "c47e6393",
   "metadata": {},
   "source": [
    "This code extracts basic university details like rank, university name, score, country, city, region etc.."
   ]
  },
  {
   "cell_type": "code",
   "execution_count": 1,
   "id": "384f524e",
   "metadata": {},
   "outputs": [],
   "source": [
    "import requests\n",
    "import pandas as pd"
   ]
  },
  {
   "cell_type": "code",
   "execution_count": 2,
   "id": "5ec7b880",
   "metadata": {},
   "outputs": [],
   "source": [
    "url = 'https://www.topuniversities.com/sites/default/files/qs-rankings-data/en/3816281.txt?rsn1ph'\n",
    "res = requests.request(\"GET\", url) .json()\n",
    "rows = res ['data' ]"
   ]
  },
  {
   "cell_type": "code",
   "execution_count": 3,
   "id": "b466bfdc",
   "metadata": {
    "scrolled": true
   },
   "outputs": [
    {
     "name": "stdout",
     "output_type": "stream",
     "text": [
      "<div class=\"td-wrap\"><a href=\"/universities/massachusetts-institute-technology-mit\" class=\"uni-link\">Massachusetts Institute of Technology (MIT) </a></div>\n",
      "<div class=\"td-wrap\"><a href=\"/universities/university-cambridge\" class=\"uni-link\">University of Cambridge</a></div>\n",
      "<div class=\"td-wrap\"><a href=\"/universities/stanford-university\" class=\"uni-link\">Stanford University</a></div>\n"
     ]
    }
   ],
   "source": [
    "for i in range(0, 3):\n",
    "    univ_name = rows[i]['title']\n",
    "    print (univ_name)"
   ]
  },
  {
   "cell_type": "code",
   "execution_count": 4,
   "id": "f92a8853",
   "metadata": {},
   "outputs": [],
   "source": [
    "no = 0\n",
    "universities = []\n",
    "\n",
    "for i in range(0, len(rows)):\n",
    "    no += 1  # Incrementing the value of no by 1\n",
    "    univ_name = rows[i]['title'].split('class=\"uni-link\">')[1].split(\"</a>\")[0].strip()\n",
    "    country = rows[i]['country']\n",
    "    city = rows[i]['city']\n",
    "    region = rows[i]['region']\n",
    "    \n",
    "    universities.append(\n",
    "        (no, country, city, univ_name, region)\n",
    "    )\n",
    "\n",
    "# Define headers separately\n",
    "headers = ['No', 'Country', 'City', 'University Name', 'Region']\n",
    "\n",
    "# Create DataFrame with headers\n",
    "df = pd.DataFrame(universities, columns=headers)\n"
   ]
  },
  {
   "cell_type": "code",
   "execution_count": 5,
   "id": "a497b65d",
   "metadata": {},
   "outputs": [
    {
     "name": "stdout",
     "output_type": "stream",
     "text": [
      "        No         Country       City  \\\n",
      "0        1   United States  Cambridge   \n",
      "1        2  United Kingdom  Cambridge   \n",
      "2        3   United States   Stanford   \n",
      "3        4  United Kingdom     Oxford   \n",
      "4        5   United States  Cambridge   \n",
      "...    ...             ...        ...   \n",
      "1417  1418        Colombia  Cartagena   \n",
      "1418  1419           Chile      Arica   \n",
      "1419  1420         Romania    Craiova   \n",
      "1420  1421         Romania     Oradea   \n",
      "1421  1422         Morocco      Rabat   \n",
      "\n",
      "                                  University Name         Region  \n",
      "0     Massachusetts Institute of Technology (MIT)  North America  \n",
      "1                         University of Cambridge         Europe  \n",
      "2                             Stanford University  North America  \n",
      "3                            University of Oxford         Europe  \n",
      "4                              Harvard University  North America  \n",
      "...                                           ...            ...  \n",
      "1417           Universidad Tecnológica de Bolívar  Latin America  \n",
      "1418                      Universidad de Tarapaca  Latin America  \n",
      "1419                        University of Craiova         Europe  \n",
      "1420                         University of Oradea         Europe  \n",
      "1421               Université Mohammed V de Rabat         Africa  \n",
      "\n",
      "[1422 rows x 5 columns]\n"
     ]
    }
   ],
   "source": [
    "print(df)"
   ]
  },
  {
   "cell_type": "code",
   "execution_count": 6,
   "id": "5d2b3398",
   "metadata": {},
   "outputs": [
    {
     "name": "stdout",
     "output_type": "stream",
     "text": [
      "Data Saved on Local disk\n"
     ]
    }
   ],
   "source": [
    "df.to_csv('details_universities.csv', index=False)\n",
    "print('Data Saved on Local disk')"
   ]
  },
  {
   "cell_type": "code",
   "execution_count": null,
   "id": "63b5288d",
   "metadata": {},
   "outputs": [],
   "source": []
  }
 ],
 "metadata": {
  "kernelspec": {
   "display_name": "Python 3 (ipykernel)",
   "language": "python",
   "name": "python3"
  },
  "language_info": {
   "codemirror_mode": {
    "name": "ipython",
    "version": 3
   },
   "file_extension": ".py",
   "mimetype": "text/x-python",
   "name": "python",
   "nbconvert_exporter": "python",
   "pygments_lexer": "ipython3",
   "version": "3.11.5"
  }
 },
 "nbformat": 4,
 "nbformat_minor": 5
}
