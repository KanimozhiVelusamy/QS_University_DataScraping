{
 "cells": [
  {
   "cell_type": "markdown",
   "id": "d55d5112",
   "metadata": {},
   "source": [
    "###### This Code will extracrt all the university urls from the page \"https://www.topuniversities.com/universities/\" and will be saved in a csv file\n"
   ]
  },
  {
   "cell_type": "code",
   "execution_count": 1,
   "id": "233a41e1",
   "metadata": {},
   "outputs": [
    {
     "name": "stdout",
     "output_type": "stream",
     "text": [
      "Data saved successfully to 'all_universities_urls.csv' file.\n"
     ]
    }
   ],
   "source": [
    "import pandas as pd\n",
    "import requests\n",
    "from bs4 import BeautifulSoup\n",
    "from selenium import webdriver\n",
    "from selenium.webdriver.chrome.service import Service\n",
    "\n",
    "def university_names(url):\n",
    "    try:\n",
    "        service = Service()\n",
    "        options = webdriver.ChromeOptions()\n",
    "        options.add_argument('--headless')  # Run Chrome in headless mode\n",
    "\n",
    "        driver = None\n",
    "        try:\n",
    "            driver = webdriver.Chrome(service=service, options=options)\n",
    "            driver.get(url)\n",
    "\n",
    "            soup = BeautifulSoup(driver.page_source, 'html.parser')\n",
    "            university_elements = soup.find_all(class_='uni-det')\n",
    "\n",
    "            universities_info = []\n",
    "\n",
    "            for index, uni in enumerate(university_elements, start=1):\n",
    "                h2_tag = uni.find('h2')\n",
    "                if h2_tag:\n",
    "                    a_tag = h2_tag.find('a')\n",
    "                    if a_tag:\n",
    "                        title = a_tag.get('title')\n",
    "                        href = a_tag.get('href')\n",
    "                        full_href = 'https://www.topuniversities.com' + href\n",
    "                        universities_info.append({'No': index, 'University': title, 'URL': full_href})\n",
    "\n",
    "            return universities_info\n",
    "\n",
    "        finally:\n",
    "            if driver:\n",
    "                driver.quit()\n",
    "\n",
    "    except Exception as e:\n",
    "        print(\"An error occurred while trying to retrieve data:\", e)\n",
    "        return []\n",
    "\n",
    "def fetch_data_from_all_pages(base_url):\n",
    "    all_universities_info = []\n",
    "    for page_num in range(1, 637):  # Iterate through the pages, if getting error try to iterate through less number of pages and merge everything\n",
    "        url = base_url.format(page_num)\n",
    "        universities_info = university_names(url)\n",
    "        all_universities_info.extend(universities_info)\n",
    "    return all_universities_info\n",
    "\n",
    "base_url = \"https://www.topuniversities.com/universities?page={}\"\n",
    "all_universities_info = fetch_data_from_all_pages(base_url)\n",
    "\n",
    "# Convert data to DataFrame\n",
    "df = pd.DataFrame(all_universities_info)\n",
    "\n",
    "# Save DataFrame as CSV file\n",
    "df.to_csv('all_universities_urls.csv', index=False)\n",
    "\n",
    "print(\"Data saved successfully to 'all_universities_urls.csv' file.\")\n"
   ]
  },
  {
   "cell_type": "code",
   "execution_count": null,
   "id": "a05771a4",
   "metadata": {},
   "outputs": [],
   "source": []
  }
 ],
 "metadata": {
  "kernelspec": {
   "display_name": "Python 3 (ipykernel)",
   "language": "python",
   "name": "python3"
  },
  "language_info": {
   "codemirror_mode": {
    "name": "ipython",
    "version": 3
   },
   "file_extension": ".py",
   "mimetype": "text/x-python",
   "name": "python",
   "nbconvert_exporter": "python",
   "pygments_lexer": "ipython3",
   "version": "3.11.5"
  }
 },
 "nbformat": 4,
 "nbformat_minor": 5
}
