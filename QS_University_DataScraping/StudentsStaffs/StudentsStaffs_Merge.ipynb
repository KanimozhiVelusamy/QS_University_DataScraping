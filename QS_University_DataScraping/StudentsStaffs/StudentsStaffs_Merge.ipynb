{
 "cells": [
  {
   "cell_type": "code",
   "execution_count": 1,
   "id": "6c973c6d",
   "metadata": {},
   "outputs": [
    {
     "name": "stdout",
     "output_type": "stream",
     "text": [
      "Merged CSV file saved at: /Users/kanimozhivelusamy/Downloads/StudentsStaffs/StudentsStaffs_Filesmerged_file.csv\n"
     ]
    }
   ],
   "source": [
    "import os\n",
    "import glob\n",
    "import pandas as pd\n",
    "\n",
    "# Path to the directory containing CSV files\n",
    "directory = '/Users/kanimozhivelusamy/Downloads/StudentsStaffs'\n",
    "\n",
    "# Find all CSV files in the directory\n",
    "csv_files = glob.glob(os.path.join(directory, '*.csv'))\n",
    "\n",
    "# Initialize an empty list to store DataFrame objects\n",
    "dfs = []\n",
    "\n",
    "# Read each CSV file and append its contents to the list\n",
    "for file in csv_files:\n",
    "    df = pd.read_csv(file)\n",
    "    dfs.append(df)\n",
    "\n",
    "# Concatenate all DataFrames into a single DataFrame\n",
    "merged_df = pd.concat(dfs, ignore_index=True)\n",
    "\n",
    "# Path to the output merged CSV file\n",
    "output_file = '/Users/kanimozhivelusamy/Downloads/StudentsStaffs/StudentsStaffs_Filesmerged_file.csv'\n",
    "\n",
    "# Write the merged DataFrame to a CSV file\n",
    "merged_df.to_csv(output_file, index=False)\n",
    "\n",
    "print(\"Merged CSV file saved at:\", output_file)\n"
   ]
  },
  {
   "cell_type": "code",
   "execution_count": null,
   "id": "7bb88c8c",
   "metadata": {},
   "outputs": [],
   "source": []
  }
 ],
 "metadata": {
  "kernelspec": {
   "display_name": "Python 3 (ipykernel)",
   "language": "python",
   "name": "python3"
  },
  "language_info": {
   "codemirror_mode": {
    "name": "ipython",
    "version": 3
   },
   "file_extension": ".py",
   "mimetype": "text/x-python",
   "name": "python",
   "nbconvert_exporter": "python",
   "pygments_lexer": "ipython3",
   "version": "3.11.5"
  }
 },
 "nbformat": 4,
 "nbformat_minor": 5
}
