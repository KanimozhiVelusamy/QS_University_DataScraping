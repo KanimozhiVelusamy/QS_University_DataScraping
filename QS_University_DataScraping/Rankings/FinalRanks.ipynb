{
 "cells": [
  {
   "cell_type": "code",
   "execution_count": 7,
   "id": "7e1d9e9e",
   "metadata": {},
   "outputs": [],
   "source": [
    "import pandas as pd\n",
    "import requests\n",
    "from bs4 import BeautifulSoup\n",
    "import csv\n",
    "import os\n",
    "\n",
    "# Load university URLs from the CSV file -- change the all 7 university urls one by one to get all the details\n",
    "df = pd.read_csv('/Users/kanimozhivelusamy/Downloads/universities_with_no_650.csv')\n",
    "\n",
    "def extract_rankings(university, url):\n",
    "    try:\n",
    "        page = requests.get(url).text\n",
    "        soup = BeautifulSoup(page, 'html.parser')\n",
    "\n",
    "        # Find the rank data div\n",
    "        rank_data_div = soup.find('div', {'id': 'rank-data'})\n",
    "\n",
    "        # Extract year and rank\n",
    "        rankings = []\n",
    "        for li in rank_data_div.find_all('li'):\n",
    "            year = li.text.strip()\n",
    "            rank = li.find('div', class_='d-rank-res').text.strip()\n",
    "            rankings.append([university, year, rank])\n",
    "\n",
    "        return rankings\n",
    "    except Exception as e:\n",
    "        #print(f\"Error occurred while scraping {university}: {str(e)}\")\n",
    "        return None\n",
    "\n",
    "# CSV file path\n",
    "csv_file = 'FinalRankings7.csv'\n",
    "\n",
    "# Check if CSV file exists, if not, write headers\n",
    "if not os.path.exists(csv_file):\n",
    "    with open(csv_file, 'w', newline='') as file:\n",
    "        writer = csv.writer(file)\n",
    "        writer.writerow(['University', 'Year', 'Rank'])\n",
    "\n",
    "# Iterate over university URLs and extract rankings\n",
    "for index, row in df.iterrows():\n",
    "    #print(f\"Extracting data for {row['University']} from {row['URL']}\")\n",
    "    university_rankings = extract_rankings(row['University'], row['URL'])\n",
    "    \n",
    "    if university_rankings:\n",
    "        # Save extracted rankings to CSV\n",
    "        with open(csv_file, 'a', newline='') as file:\n",
    "            writer = csv.writer(file)\n",
    "            for ranking in university_rankings:\n",
    "                writer.writerow(ranking)\n",
    "        \n",
    "        #print(f'Data for {row[\"University\"]} saved to {csv_file}.')\n"
   ]
  },
  {
   "cell_type": "code",
   "execution_count": null,
   "id": "1c8d2b2e",
   "metadata": {},
   "outputs": [],
   "source": []
  },
  {
   "cell_type": "code",
   "execution_count": null,
   "id": "85dc2990",
   "metadata": {},
   "outputs": [],
   "source": []
  }
 ],
 "metadata": {
  "kernelspec": {
   "display_name": "Python 3 (ipykernel)",
   "language": "python",
   "name": "python3"
  },
  "language_info": {
   "codemirror_mode": {
    "name": "ipython",
    "version": 3
   },
   "file_extension": ".py",
   "mimetype": "text/x-python",
   "name": "python",
   "nbconvert_exporter": "python",
   "pygments_lexer": "ipython3",
   "version": "3.11.5"
  }
 },
 "nbformat": 4,
 "nbformat_minor": 5
}
