{
 "cells": [
  {
   "cell_type": "code",
   "execution_count": 19,
   "id": "c86b94eb",
   "metadata": {},
   "outputs": [
    {
     "name": "stdout",
     "output_type": "stream",
     "text": [
      "Data saved to studentstaff_count_7.csv\n"
     ]
    }
   ],
   "source": [
    "import pandas as pd\n",
    "import requests\n",
    "from bs4 import BeautifulSoup\n",
    "\n",
    "# Load university URLs from the CSV file -- change the all 7 university urls one by one to get all the details\n",
    "df = pd.read_csv('/Users/kanimozhivelusamy/Downloads/universities_with_no_650.csv')\n",
    "\n",
    "def extract_studentstaff(university_name, url):\n",
    "    page = requests.get(url).text\n",
    "    soup = BeautifulSoup(page, 'html.parser')\n",
    "    \n",
    "    # Find all elements with class 'studstaff-subsection'\n",
    "    sections = soup.find_all(class_='studstaff-subsection')\n",
    "\n",
    "    data = {'University Name': university_name, 'Total Students': None, 'International Students': None, 'Total Staffs': None}\n",
    "\n",
    "    # Extract data from each section\n",
    "    for section in sections:\n",
    "        title = section.find(class_='studstaff-subsection-title').text.strip()\n",
    "        count_str = section.find(class_='studstaff-subsection-count').text.strip().replace(',', '')  # Remove comma\n",
    "        count = int(count_str)\n",
    "        if 'student' in title.lower():\n",
    "            if 'international' in title.lower():\n",
    "                data['International Students'] = count\n",
    "            else:\n",
    "                data['Total Students'] = count\n",
    "        elif 'staff' in title.lower():\n",
    "            data['Total Staffs'] = count\n",
    "\n",
    "    return data\n",
    "\n",
    "# List to store extracted data\n",
    "extracted_data = []\n",
    "\n",
    "# Loop through each row in the DataFrame\n",
    "for index, row in df.iterrows():\n",
    "    university_name = row['University']\n",
    "    url = row['URL']\n",
    "    data = extract_studentstaff(university_name, url)\n",
    "    extracted_data.append(data)\n",
    "\n",
    "# Convert the list of dictionaries to DataFrame\n",
    "extracted_df = pd.DataFrame(extracted_data)\n",
    "\n",
    "# Save DataFrame to CSV\n",
    "extracted_df.to_csv('studentstaff_count_7.csv', index=False)\n",
    "\n",
    "print(\"Data saved to studentstaff_count_7.csv\")\n"
   ]
  },
  {
   "cell_type": "code",
   "execution_count": null,
   "id": "9abeda10",
   "metadata": {},
   "outputs": [],
   "source": []
  }
 ],
 "metadata": {
  "kernelspec": {
   "display_name": "Python 3 (ipykernel)",
   "language": "python",
   "name": "python3"
  },
  "language_info": {
   "codemirror_mode": {
    "name": "ipython",
    "version": 3
   },
   "file_extension": ".py",
   "mimetype": "text/x-python",
   "name": "python",
   "nbconvert_exporter": "python",
   "pygments_lexer": "ipython3",
   "version": "3.11.5"
  }
 },
 "nbformat": 4,
 "nbformat_minor": 5
}
